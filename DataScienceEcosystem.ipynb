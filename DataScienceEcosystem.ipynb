{
  "metadata": {
    "kernelspec": {
      "name": "python",
      "display_name": "Python (Pyodide)",
      "language": "python"
    },
    "language_info": {
      "codemirror_mode": {
        "name": "python",
        "version": 3
      },
      "file_extension": ".py",
      "mimetype": "text/x-python",
      "name": "python",
      "nbconvert_exporter": "python",
      "pygments_lexer": "ipython3",
      "version": "3.8"
    }
  },
  "nbformat_minor": 4,
  "nbformat": 4,
  "cells": [
    {
      "cell_type": "markdown",
      "source": "<H1>Data Science Tools and Ecosystem</H1>",
      "metadata": {}
    },
    {
      "cell_type": "markdown",
      "source": "<H2>Author:</H2>\nZurab Kapanadze\n<br>\n<br>",
      "metadata": {}
    },
    {
      "cell_type": "markdown",
      "source": "This is a Notebook for the Assignment, in which the Data Science Tools and Ecosystem will be summarized.",
      "metadata": {}
    },
    {
      "cell_type": "markdown",
      "source": "Objectives:\n* Brief Overview of some of the common Programming Languages and Libraries used in Data Science.\n* Brief Overview of Certain Data Science Tools.\n* Listing of the Basic Arithmetic Operands used in Python\n* Execution of a simple Arithmetic Operation in Python",
      "metadata": {}
    },
    {
      "cell_type": "markdown",
      "source": "These are the more common languages used in Data Science:\n1. Python\n2. SQL\n3. R\n4. C++\n5. Java\n6. Scala\n7. Julia",
      "metadata": {}
    },
    {
      "cell_type": "markdown",
      "source": "Some of the more commonly used libraries in Data Science include:\n1. Numpy\n2. Pandas\n3. Scipy\n4. Matplotlib\n5. Keras\n6. Pytorch\n7. DyNet\n8. Caffe\n9. Armadillo",
      "metadata": {}
    },
    {
      "cell_type": "markdown",
      "source": "Here are some of the avaliable Data Science Tools:\n1. MySQL\n2. PostgreSQL\n3. Apache CouchDB\n4. Apache Airflow\n5. Apache Kafka\n6. NodeRED\n7. TensorFlow\n8. Git\n9. GitHub\n10. Apache Atlas",
      "metadata": {}
    },
    {
      "cell_type": "markdown",
      "source": "<H3>These are the Examples of some of the simpler Arithmetic Expressions in Python:</H3>\n\n1. '+' - Add\n2. '-' - Subtract\n3. '*' - Multiply\n4. '/' - Divide\n5. '//' - Floor Divide\n6. '%' - Modulus\n7. '**' - Power/Exponentiation",
      "metadata": {}
    },
    {
      "cell_type": "code",
      "source": "#Here's a sample of a simple Arithmetic Operation. I prefer Using Variables in all cases, so there's that:\nX = 100\nY = 5\nZ = 4\nResult = X/(Y*Z)\nprint( Result )\n",
      "metadata": {
        "trusted": true
      },
      "outputs": [
        {
          "name": "stdout",
          "text": "5.0\n",
          "output_type": "stream"
        }
      ],
      "execution_count": 5
    },
    {
      "cell_type": "code",
      "source": "#Here's a sample of a simple Code of Conversion of Minutes to Hours:\nMin = 200\nHr = Min/60\nprint( round(Hr,2) )\n",
      "metadata": {
        "trusted": true
      },
      "outputs": [
        {
          "name": "stdout",
          "text": "3.33\n",
          "output_type": "stream"
        }
      ],
      "execution_count": 8
    },
    {
      "cell_type": "code",
      "source": "",
      "metadata": {
        "trusted": true
      },
      "outputs": [],
      "execution_count": null
    }
  ]
}